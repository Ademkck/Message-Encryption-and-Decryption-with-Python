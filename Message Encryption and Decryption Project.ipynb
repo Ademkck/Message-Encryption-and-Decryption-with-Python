{
 "cells": [
  {
   "cell_type": "markdown",
   "id": "d80e5c86",
   "metadata": {},
   "source": [
    "The first step is to import the required modules. Here I will be using the tkinter module for building the GUI and the base64 module for encryption and decryption purposes."
   ]
  },
  {
   "cell_type": "code",
   "execution_count": 39,
   "id": "b3814188",
   "metadata": {},
   "outputs": [],
   "source": [
    "from tkinter import *\n",
    "import base64\n",
    "from tkinter import messagebox\n",
    "import tkinter.font as font"
   ]
  },
  {
   "cell_type": "markdown",
   "id": "f05292c7",
   "metadata": {},
   "source": [
    "Writing function for encryption"
   ]
  },
  {
   "cell_type": "code",
   "execution_count": 40,
   "id": "6c366e74",
   "metadata": {},
   "outputs": [],
   "source": [
    "def encode(key, msg):\n",
    "    enc = []\n",
    "    for i in range(len(msg)):\n",
    "        list_key = key[i % len(key)]\n",
    "        list_enc = chr((ord(msg[i]) +\n",
    "             ord(list_key)) % 256)\n",
    "        enc.append(list_enc)\n",
    "        \n",
    "    return base64.urlsafe_b64encode(\"\".join(enc).encode()).decode()\n",
    "        \n"
   ]
  },
  {
   "cell_type": "markdown",
   "id": "5fe9ba64",
   "metadata": {},
   "source": [
    "# Code Explanation:\n",
    "a. ord(): This function gives the corresponding ASCII values of a given character.\n",
    "b. chr(): This function gives the corresponding character to the given ASCII value.\n",
    "c. append(): Adds the elements to the end of the list\n",
    "d. ord(msg[i]) + ord(list_key)) % 256 : This gives the remainder of division of addition of ord(message[i]) and ord( key_c) with 256 and passes that remainder to chr() function\n",
    "e. base64.urlsafe_b64encode(): This helps in encoding the string using url and file system safe alphabets into the binary form."
   ]
  },
  {
   "cell_type": "markdown",
   "id": "70af8c05",
   "metadata": {},
   "source": [
    "Writing function for decryption"
   ]
  },
  {
   "cell_type": "code",
   "execution_count": 41,
   "id": "ba3eddff",
   "metadata": {},
   "outputs": [],
   "source": [
    "def decode(key, code):\n",
    "    dec = []\n",
    "    enc = base64.urlsafe_b64decode(code).decode()\n",
    "    for i in range(len(enc)):\n",
    "        list_key = key[i % len(key)]\n",
    "        list_dec = chr((256 + ord(enc[i]) - ord(list_key)) % 256)\n",
    "        \n",
    "    dec.append(list_dec)\n",
    "    \n",
    "    return  \"\".join(dec)\n",
    "        \n",
    " "
   ]
  },
  {
   "cell_type": "markdown",
   "id": "a30fe37e",
   "metadata": {},
   "source": [
    "# Code Explanation:\n",
    "a. base64.urlsafe_b64decode(): This helps in decoding the binary string using url and file system safe alphabets into the normal form of strings.\n",
    "b. ord(): This function gives the corresponding ASCII values of a given character\n",
    "c. chr(): This function gives the corresponding character to the given ASCII value\n",
    "d. 256 + ord(message[i]) – ord(key_c)) % 256 : This gives the remainder of addition of 256 with subtraction of ord(message[i]) – ord( key_c) and then division with 256 and passes that remainder to chr() function\n",
    "e. append(): Adds the elements to the end of the list"
   ]
  },
  {
   "cell_type": "markdown",
   "id": "5386536a",
   "metadata": {},
   "source": [
    "Creating the window"
   ]
  },
  {
   "cell_type": "code",
   "execution_count": 42,
   "id": "daade486",
   "metadata": {},
   "outputs": [
    {
     "data": {
      "text/plain": [
       "''"
      ]
     },
     "execution_count": 42,
     "metadata": {},
     "output_type": "execute_result"
    }
   ],
   "source": [
    "wn = Tk()\n",
    "wn.geometry(\"500x500\")\n",
    "wn.configure(bg='azure2')\n",
    "wn.title(\"Encrypt and Decrypt your Messages with programmer Adem :)\")"
   ]
  },
  {
   "cell_type": "markdown",
   "id": "8a59d8a1",
   "metadata": {},
   "source": [
    "# Code Explanation:\n",
    "a. geometry(): It sets the length and width of the project window.\n",
    "b. configure(): It sets the background color of the screen\n",
    "c. title(): It displays the title on the top of the python message encryption-decryption project window."
   ]
  },
  {
   "cell_type": "markdown",
   "id": "a0b3dafb",
   "metadata": {},
   "source": [
    "Adding the input and output components"
   ]
  },
  {
   "cell_type": "code",
   "execution_count": 43,
   "id": "fee7768c",
   "metadata": {},
   "outputs": [],
   "source": [
    "Message = StringVar()\n",
    "key = StringVar()\n",
    "mode = IntVar()\n",
    "Output = StringVar()\n",
    "headingFrame1 = Frame(wn,bg=\"gray91\",bd=5)\n",
    "headingFrame1.place(relx=0.2,rely=0.1,relwidth=0.7,relheight=0.16)\n",
    "headingLabel = Label(headingFrame1, text=\" Welcome to Encryption and \\nDecryption with Programmer Adem :) \", fg='grey19', font=('Courier',15,'bold'))\n",
    "headingLabel.place(relx=0,rely=0, relwidth=1, relheight=1)\n",
    "label1 = Label(wn, text='Enter the Message', font=('Courier',10))\n",
    "label1.place(x=10,y=150)\n",
    "msg = Entry(wn,textvariable=Message, width=35, font=('calibre',10,'normal'))\n",
    "msg.place(x=200,y=150)\n",
    "label2 = Label(wn, text='Enter the key', font=('Courier',10))\n",
    "label2.place(x=10,y=200)\n",
    "InpKey = Entry(wn, textvariable=key, width=35,font=('calibre',10,'normal'))\n",
    "InpKey.place(x=200,y=200)\n",
    "label3 = Label(wn, text='Check one of encrypt or decrypt', font=('Courier',10))\n",
    "label3.place(x=10,y=250)\n",
    "Radiobutton(wn, text='Encrypt', variable=mode, value=1).place(x=100,y=300)\n",
    "Radiobutton(wn, text='Decrypt', variable=mode, value=2).place(x=200,y=300)\n",
    "label3 = Label(wn, text='Result', font=('Courier',10))\n",
    "label3.place(x=10,y=350)\n",
    "res = Entry(wn,textvariable=Output, width=35, font=('calibre',10,'normal'))\n",
    "res.place(x=200,y=350)"
   ]
  },
  {
   "cell_type": "markdown",
   "id": "2b2f7ffd",
   "metadata": {},
   "source": [
    "# Code Explanation:\n",
    "a. The message and key hold the values in the entries that hold the input message key. And mode checks which radio button is pressed for encryption/decryption. Output values hold the value shown in the Result entry after doing the operation.\n",
    "b. Frame(): It creates a rectangular object that holds various widgets on the screen\n",
    "c. place(): This is used to place the widgets in a specified location based on coordinates or relative to the parent component\n",
    "d. Label(): This creates a label that can be used to show information\n",
    "e. Entry(): This widget is used to take input from the user\n",
    "f. Radiobutton(): These help in choosing one of the given options"
   ]
  },
  {
   "cell_type": "markdown",
   "id": "6acf3218",
   "metadata": {},
   "source": [
    "Adding the buttons and their functions"
   ]
  },
  {
   "cell_type": "code",
   "execution_count": 44,
   "id": "1b8acaaa",
   "metadata": {},
   "outputs": [],
   "source": [
    "def Result():\n",
    "  msg = Message.get()\n",
    "  k= key.get()\n",
    "  i = mode.get()\n",
    "  if (i==1):\n",
    "    Output.set(encode(k, msg))\n",
    "  elif(i==2):\n",
    "    Output.set(decode(k, msg))\n",
    "  else:\n",
    "    messagebox.showinfo('Programmer Adem', 'Please Choose one of Encryption or Decryption. Try again.')\n",
    "#Function that executes on clicking Reset function\n",
    "def Reset():\n",
    "  Message.set(\"\")\n",
    "  key.set(\"\")\n",
    "  mode.set(0)\n",
    "  Output.set(\"\")\n",
    "ShowBtn = Button(wn,text=\"Show Message\",bg='lavender blush2', fg='black',width=15,height=1,command=Result)\n",
    "ShowBtn['font'] = font.Font( size=12)\n",
    "ShowBtn.place(x=180,y=400)\n",
    "ResetBtn = Button(wn, text='Reset', bg='honeydew2', fg='black', width=15,height=1,command=Reset)\n",
    "ResetBtn['font'] = font.Font( size=12)\n",
    "ResetBtn.place(x=15,y=400)\n",
    "QuitBtn = Button(wn, text='Exit', bg='old lace', fg='black',width=15,height=1, command=wn.destroy)\n",
    "QuitBtn['font'] = font.Font( size=12)\n",
    "QuitBtn.place(x=345,y=400)\n",
    "wn.mainloop()"
   ]
  },
  {
   "cell_type": "markdown",
   "id": "af670384",
   "metadata": {},
   "source": [
    "# Code Explanation:\n",
    "a. The result() function\n",
    "\n",
    "i. it takes the message, key, and the mode that are inputted by the user\n",
    "ii. Then based on the mode, calls one of the encryption() or decryption() functions\n",
    "iii. Shows the output in the Result field\n",
    "iv. If no mode is selected, shows the message to select one of the either\n",
    "\n",
    "b. Button(): This creates a button with mentioned color, text, etc. and the command parameter represents the function that is to be executed on clicking the button\n",
    "\n",
    "c. place(): This is used to place the widgets in a specified location based on coordinates or relative to the parent component\n",
    "\n",
    "d. mainloop(): This makes sure the screen runs in a loop till it is manually closed by the user"
   ]
  },
  {
   "cell_type": "code",
   "execution_count": null,
   "id": "3bc0e007",
   "metadata": {},
   "outputs": [],
   "source": []
  }
 ],
 "metadata": {
  "kernelspec": {
   "display_name": "Python 3 (ipykernel)",
   "language": "python",
   "name": "python3"
  },
  "language_info": {
   "codemirror_mode": {
    "name": "ipython",
    "version": 3
   },
   "file_extension": ".py",
   "mimetype": "text/x-python",
   "name": "python",
   "nbconvert_exporter": "python",
   "pygments_lexer": "ipython3",
   "version": "3.9.7"
  }
 },
 "nbformat": 4,
 "nbformat_minor": 5
}
